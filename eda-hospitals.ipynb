{
 "cells": [
  {
   "cell_type": "markdown",
   "metadata": {},
   "source": [
    "Data Mining [H02C6a] - Spring 2021\n",
    "\n",
    "# Session 1: Exploratory Data Analysis with `pandas`\n",
    "\n",
    "The goal of this exercise session is to get familiar with the first stage of the data minig process - explorative data analysis (EDA) and data visualisation. "
   ]
  },
  {
   "cell_type": "markdown",
   "metadata": {},
   "source": [
    "## Short introduction (for those not familiar with `pandas`)\n",
    "\n",
    "<img src = '../img/pandas.jpg' width = 35% align=right>\n",
    "\n",
    "<a href = 'http://pandas.pydata.org/'>`pandas`</a> is a Python library that provides extensive means for data analysis. Data scientists often work with data stored in table formats like `.csv`, `.tsv`, or `.xlsx`. `pandas` makes it very convenient to load, process, and analyze such tabular data using SQL-like queries. Together with <a href = 'https://matplotlib.org/'>`matplotlib`</a> and <a href = 'https://seaborn.pydata.org/'>`seaborn`</a>, `pandas` provides a wide range of opportunities for visual analysis of tabular data.\n",
    "\n",
    "The main data structures in `pandas` are `Series` and `DataFrame`. The former is a one-dimensional indexed array of some fixed data type. The latter is a two-dimensional data structure - a table - where each column contains data of the same type. You can see it as a dictionary of `Series` instances. `DataFrame`s are great for representing real data: rows correspond to instances (objects, observations, etc.), and columns correspond to features for each of the instances."
   ]
  },
  {
   "cell_type": "markdown",
   "metadata": {},
   "source": [
    "## Exercise 1: Hospital Data\n",
    "\n",
    "In this exercise, you will perform a preliminary analysis of the data set containing patient information from a number of hospitals. \n",
    "\n",
    "Look through the notebook, run the cells one by one answering the questions and completing missing parts of the code where neccessary.\n",
    "\n",
    "If you have a question about `pandas` functionality, use Google and official documentation first!"
   ]
  },
  {
   "cell_type": "code",
   "execution_count": 2,
   "metadata": {},
   "outputs": [],
   "source": [
    "# Importing necessary libraries\n",
    "import pandas as pd\n",
    "import numpy as np"
   ]
  },
  {
   "cell_type": "markdown",
   "metadata": {},
   "source": [
    "## First glance at the data"
   ]
  },
  {
   "cell_type": "markdown",
   "metadata": {},
   "source": [
    "The following snippet loads the `patients.csv` file and prints attribute names and types. You can have a look at the first few rows of the dataset using the `head` function:"
   ]
  },
  {
   "cell_type": "code",
   "execution_count": 3,
   "metadata": {},
   "outputs": [
    {
     "name": "stdout",
     "output_type": "stream",
     "text": [
      "There are 1000 records\n",
      "There are 14 attributes:\n",
      "hospital       object\n",
      "gender         object\n",
      "age             int64\n",
      "height        float64\n",
      "weight          int64\n",
      "bmi           float64\n",
      "diagnosis      object\n",
      "blood_test     object\n",
      "ecg            object\n",
      "ultrasound     object\n",
      "mri            object\n",
      "xray           object\n",
      "children      float64\n",
      "months        float64\n",
      "dtype: object\n"
     ]
    },
    {
     "data": {
      "text/html": [
       "<div>\n",
       "<style scoped>\n",
       "    .dataframe tbody tr th:only-of-type {\n",
       "        vertical-align: middle;\n",
       "    }\n",
       "\n",
       "    .dataframe tbody tr th {\n",
       "        vertical-align: top;\n",
       "    }\n",
       "\n",
       "    .dataframe thead th {\n",
       "        text-align: right;\n",
       "    }\n",
       "</style>\n",
       "<table border=\"1\" class=\"dataframe\">\n",
       "  <thead>\n",
       "    <tr style=\"text-align: right;\">\n",
       "      <th></th>\n",
       "      <th>hospital</th>\n",
       "      <th>gender</th>\n",
       "      <th>age</th>\n",
       "      <th>height</th>\n",
       "      <th>weight</th>\n",
       "      <th>bmi</th>\n",
       "      <th>diagnosis</th>\n",
       "      <th>blood_test</th>\n",
       "      <th>ecg</th>\n",
       "      <th>ultrasound</th>\n",
       "      <th>mri</th>\n",
       "      <th>xray</th>\n",
       "      <th>children</th>\n",
       "      <th>months</th>\n",
       "    </tr>\n",
       "  </thead>\n",
       "  <tbody>\n",
       "    <tr>\n",
       "      <th>0</th>\n",
       "      <td>sports</td>\n",
       "      <td>f</td>\n",
       "      <td>24</td>\n",
       "      <td>5.747</td>\n",
       "      <td>194</td>\n",
       "      <td>28.8</td>\n",
       "      <td>fracture</td>\n",
       "      <td>NaN</td>\n",
       "      <td>f</td>\n",
       "      <td>NaN</td>\n",
       "      <td>f</td>\n",
       "      <td>t</td>\n",
       "      <td>NaN</td>\n",
       "      <td>NaN</td>\n",
       "    </tr>\n",
       "    <tr>\n",
       "      <th>1</th>\n",
       "      <td>general</td>\n",
       "      <td>m</td>\n",
       "      <td>33</td>\n",
       "      <td>1.640</td>\n",
       "      <td>66</td>\n",
       "      <td>24.9</td>\n",
       "      <td>cold</td>\n",
       "      <td>t</td>\n",
       "      <td>NaN</td>\n",
       "      <td>NaN</td>\n",
       "      <td>NaN</td>\n",
       "      <td>NaN</td>\n",
       "      <td>NaN</td>\n",
       "      <td>NaN</td>\n",
       "    </tr>\n",
       "    <tr>\n",
       "      <th>2</th>\n",
       "      <td>general</td>\n",
       "      <td>m</td>\n",
       "      <td>48</td>\n",
       "      <td>1.930</td>\n",
       "      <td>106</td>\n",
       "      <td>28.4</td>\n",
       "      <td>stomach</td>\n",
       "      <td>t</td>\n",
       "      <td>NaN</td>\n",
       "      <td>t</td>\n",
       "      <td>NaN</td>\n",
       "      <td>NaN</td>\n",
       "      <td>NaN</td>\n",
       "      <td>NaN</td>\n",
       "    </tr>\n",
       "    <tr>\n",
       "      <th>3</th>\n",
       "      <td>general</td>\n",
       "      <td>f</td>\n",
       "      <td>23</td>\n",
       "      <td>1.540</td>\n",
       "      <td>63</td>\n",
       "      <td>26.8</td>\n",
       "      <td>cold</td>\n",
       "      <td>t</td>\n",
       "      <td>NaN</td>\n",
       "      <td>NaN</td>\n",
       "      <td>NaN</td>\n",
       "      <td>NaN</td>\n",
       "      <td>NaN</td>\n",
       "      <td>NaN</td>\n",
       "    </tr>\n",
       "    <tr>\n",
       "      <th>4</th>\n",
       "      <td>general</td>\n",
       "      <td>m</td>\n",
       "      <td>27</td>\n",
       "      <td>1.940</td>\n",
       "      <td>103</td>\n",
       "      <td>27.5</td>\n",
       "      <td>stomach</td>\n",
       "      <td>t</td>\n",
       "      <td>NaN</td>\n",
       "      <td>t</td>\n",
       "      <td>NaN</td>\n",
       "      <td>NaN</td>\n",
       "      <td>NaN</td>\n",
       "      <td>NaN</td>\n",
       "    </tr>\n",
       "  </tbody>\n",
       "</table>\n",
       "</div>"
      ],
      "text/plain": [
       "  hospital gender  age  height  weight   bmi diagnosis blood_test  ecg  \\\n",
       "0   sports      f   24   5.747     194  28.8  fracture        NaN    f   \n",
       "1  general      m   33   1.640      66  24.9      cold          t  NaN   \n",
       "2  general      m   48   1.930     106  28.4   stomach          t  NaN   \n",
       "3  general      f   23   1.540      63  26.8      cold          t  NaN   \n",
       "4  general      m   27   1.940     103  27.5   stomach          t  NaN   \n",
       "\n",
       "  ultrasound  mri xray  children  months  \n",
       "0        NaN    f    t       NaN     NaN  \n",
       "1        NaN  NaN  NaN       NaN     NaN  \n",
       "2          t  NaN  NaN       NaN     NaN  \n",
       "3        NaN  NaN  NaN       NaN     NaN  \n",
       "4          t  NaN  NaN       NaN     NaN  "
      ]
     },
     "execution_count": 3,
     "metadata": {},
     "output_type": "execute_result"
    }
   ],
   "source": [
    "data = pd.read_csv('../datasets/patients.csv', na_values=['?'])\n",
    "\n",
    "# How many records and attributes are there?\n",
    "print('There are ' + str(data.shape[0]) + ' records')\n",
    "print('There are ' + str(data.columns.size) + ' attributes:')\n",
    "\n",
    "# What are the attributes?\n",
    "data_types = data.dtypes\n",
    "print(data_types)\n",
    "\n",
    "# Let's have a look at the first couple of records\n",
    "data.head()"
   ]
  },
  {
   "cell_type": "markdown",
   "metadata": {},
   "source": [
    "The `describe` method shows basic statistical characteristics of each <i>numerical</i> feature in a data frame (`int64` and `float64` types): number of non-missing values, mean, standard deviation, range, median, 0.25 and 0.75 quartiles."
   ]
  },
  {
   "cell_type": "code",
   "execution_count": 4,
   "metadata": {},
   "outputs": [
    {
     "data": {
      "text/html": [
       "<div>\n",
       "<style scoped>\n",
       "    .dataframe tbody tr th:only-of-type {\n",
       "        vertical-align: middle;\n",
       "    }\n",
       "\n",
       "    .dataframe tbody tr th {\n",
       "        vertical-align: top;\n",
       "    }\n",
       "\n",
       "    .dataframe thead th {\n",
       "        text-align: right;\n",
       "    }\n",
       "</style>\n",
       "<table border=\"1\" class=\"dataframe\">\n",
       "  <thead>\n",
       "    <tr style=\"text-align: right;\">\n",
       "      <th></th>\n",
       "      <th>age</th>\n",
       "      <th>height</th>\n",
       "      <th>weight</th>\n",
       "      <th>bmi</th>\n",
       "      <th>children</th>\n",
       "      <th>months</th>\n",
       "    </tr>\n",
       "  </thead>\n",
       "  <tbody>\n",
       "    <tr>\n",
       "      <th>count</th>\n",
       "      <td>1000.000000</td>\n",
       "      <td>1000.000000</td>\n",
       "      <td>1000.000000</td>\n",
       "      <td>1000.000000</td>\n",
       "      <td>325.000000</td>\n",
       "      <td>330.000000</td>\n",
       "    </tr>\n",
       "    <tr>\n",
       "      <th>mean</th>\n",
       "      <td>31.760000</td>\n",
       "      <td>2.692463</td>\n",
       "      <td>107.602000</td>\n",
       "      <td>26.534500</td>\n",
       "      <td>0.855385</td>\n",
       "      <td>5.151515</td>\n",
       "    </tr>\n",
       "    <tr>\n",
       "      <th>std</th>\n",
       "      <td>13.570725</td>\n",
       "      <td>1.896209</td>\n",
       "      <td>61.601837</td>\n",
       "      <td>2.310324</td>\n",
       "      <td>0.720517</td>\n",
       "      <td>2.200044</td>\n",
       "    </tr>\n",
       "    <tr>\n",
       "      <th>min</th>\n",
       "      <td>0.000000</td>\n",
       "      <td>1.260000</td>\n",
       "      <td>44.000000</td>\n",
       "      <td>19.500000</td>\n",
       "      <td>0.000000</td>\n",
       "      <td>1.000000</td>\n",
       "    </tr>\n",
       "    <tr>\n",
       "      <th>25%</th>\n",
       "      <td>21.000000</td>\n",
       "      <td>1.650000</td>\n",
       "      <td>70.000000</td>\n",
       "      <td>25.000000</td>\n",
       "      <td>0.000000</td>\n",
       "      <td>3.000000</td>\n",
       "    </tr>\n",
       "    <tr>\n",
       "      <th>50%</th>\n",
       "      <td>30.000000</td>\n",
       "      <td>1.760000</td>\n",
       "      <td>81.000000</td>\n",
       "      <td>26.600000</td>\n",
       "      <td>1.000000</td>\n",
       "      <td>5.000000</td>\n",
       "    </tr>\n",
       "    <tr>\n",
       "      <th>75%</th>\n",
       "      <td>39.250000</td>\n",
       "      <td>1.960000</td>\n",
       "      <td>104.000000</td>\n",
       "      <td>28.100000</td>\n",
       "      <td>1.000000</td>\n",
       "      <td>7.000000</td>\n",
       "    </tr>\n",
       "    <tr>\n",
       "      <th>max</th>\n",
       "      <td>80.000000</td>\n",
       "      <td>7.700000</td>\n",
       "      <td>341.000000</td>\n",
       "      <td>34.300000</td>\n",
       "      <td>2.000000</td>\n",
       "      <td>9.000000</td>\n",
       "    </tr>\n",
       "  </tbody>\n",
       "</table>\n",
       "</div>"
      ],
      "text/plain": [
       "               age       height       weight          bmi    children  \\\n",
       "count  1000.000000  1000.000000  1000.000000  1000.000000  325.000000   \n",
       "mean     31.760000     2.692463   107.602000    26.534500    0.855385   \n",
       "std      13.570725     1.896209    61.601837     2.310324    0.720517   \n",
       "min       0.000000     1.260000    44.000000    19.500000    0.000000   \n",
       "25%      21.000000     1.650000    70.000000    25.000000    0.000000   \n",
       "50%      30.000000     1.760000    81.000000    26.600000    1.000000   \n",
       "75%      39.250000     1.960000   104.000000    28.100000    1.000000   \n",
       "max      80.000000     7.700000   341.000000    34.300000    2.000000   \n",
       "\n",
       "           months  \n",
       "count  330.000000  \n",
       "mean     5.151515  \n",
       "std      2.200044  \n",
       "min      1.000000  \n",
       "25%      3.000000  \n",
       "50%      5.000000  \n",
       "75%      7.000000  \n",
       "max      9.000000  "
      ]
     },
     "execution_count": 4,
     "metadata": {},
     "output_type": "execute_result"
    }
   ],
   "source": [
    "data.describe()"
   ]
  },
  {
   "cell_type": "markdown",
   "metadata": {},
   "source": [
    "In order to obtain statistics for nominal features, you should explicitly specify that you want to consider the `object` data type. For each nominal feature in the data, you will get the number of non-missing values, unique values count, most common value and the corresponding count:"
   ]
  },
  {
   "cell_type": "code",
   "execution_count": 5,
   "metadata": {},
   "outputs": [
    {
     "data": {
      "text/html": [
       "<div>\n",
       "<style scoped>\n",
       "    .dataframe tbody tr th:only-of-type {\n",
       "        vertical-align: middle;\n",
       "    }\n",
       "\n",
       "    .dataframe tbody tr th {\n",
       "        vertical-align: top;\n",
       "    }\n",
       "\n",
       "    .dataframe thead th {\n",
       "        text-align: right;\n",
       "    }\n",
       "</style>\n",
       "<table border=\"1\" class=\"dataframe\">\n",
       "  <thead>\n",
       "    <tr style=\"text-align: right;\">\n",
       "      <th></th>\n",
       "      <th>hospital</th>\n",
       "      <th>gender</th>\n",
       "      <th>diagnosis</th>\n",
       "      <th>blood_test</th>\n",
       "      <th>ecg</th>\n",
       "      <th>ultrasound</th>\n",
       "      <th>mri</th>\n",
       "      <th>xray</th>\n",
       "    </tr>\n",
       "  </thead>\n",
       "  <tbody>\n",
       "    <tr>\n",
       "      <th>count</th>\n",
       "      <td>1000</td>\n",
       "      <td>675</td>\n",
       "      <td>1000</td>\n",
       "      <td>714</td>\n",
       "      <td>600</td>\n",
       "      <td>480</td>\n",
       "      <td>214</td>\n",
       "      <td>611</td>\n",
       "    </tr>\n",
       "    <tr>\n",
       "      <th>unique</th>\n",
       "      <td>3</td>\n",
       "      <td>2</td>\n",
       "      <td>7</td>\n",
       "      <td>2</td>\n",
       "      <td>2</td>\n",
       "      <td>2</td>\n",
       "      <td>2</td>\n",
       "      <td>2</td>\n",
       "    </tr>\n",
       "    <tr>\n",
       "      <th>top</th>\n",
       "      <td>general</td>\n",
       "      <td>m</td>\n",
       "      <td>pregnancy</td>\n",
       "      <td>t</td>\n",
       "      <td>t</td>\n",
       "      <td>t</td>\n",
       "      <td>f</td>\n",
       "      <td>f</td>\n",
       "    </tr>\n",
       "    <tr>\n",
       "      <th>freq</th>\n",
       "      <td>461</td>\n",
       "      <td>351</td>\n",
       "      <td>318</td>\n",
       "      <td>508</td>\n",
       "      <td>389</td>\n",
       "      <td>375</td>\n",
       "      <td>133</td>\n",
       "      <td>465</td>\n",
       "    </tr>\n",
       "  </tbody>\n",
       "</table>\n",
       "</div>"
      ],
      "text/plain": [
       "       hospital gender  diagnosis blood_test  ecg ultrasound  mri xray\n",
       "count      1000    675       1000        714  600        480  214  611\n",
       "unique        3      2          7          2    2          2    2    2\n",
       "top     general      m  pregnancy          t    t          t    f    f\n",
       "freq        461    351        318        508  389        375  133  465"
      ]
     },
     "execution_count": 5,
     "metadata": {},
     "output_type": "execute_result"
    }
   ],
   "source": [
    "data.describe(include=['object'])"
   ]
  },
  {
   "cell_type": "markdown",
   "metadata": {},
   "source": [
    "## Dealing with missing values"
   ]
  },
  {
   "cell_type": "markdown",
   "metadata": {},
   "source": [
    "You can notice that most of the columns contain missing values. Are they missing at random or is there a pattern? Let's start with the `gender` attribute."
   ]
  },
  {
   "cell_type": "code",
   "execution_count": 6,
   "metadata": {},
   "outputs": [
    {
     "data": {
      "text/html": [
       "<div>\n",
       "<style scoped>\n",
       "    .dataframe tbody tr th:only-of-type {\n",
       "        vertical-align: middle;\n",
       "    }\n",
       "\n",
       "    .dataframe tbody tr th {\n",
       "        vertical-align: top;\n",
       "    }\n",
       "\n",
       "    .dataframe thead th {\n",
       "        text-align: right;\n",
       "    }\n",
       "</style>\n",
       "<table border=\"1\" class=\"dataframe\">\n",
       "  <thead>\n",
       "    <tr style=\"text-align: right;\">\n",
       "      <th></th>\n",
       "      <th>hospital</th>\n",
       "      <th>gender</th>\n",
       "      <th>diagnosis</th>\n",
       "      <th>blood_test</th>\n",
       "      <th>ecg</th>\n",
       "      <th>ultrasound</th>\n",
       "      <th>mri</th>\n",
       "      <th>xray</th>\n",
       "    </tr>\n",
       "  </thead>\n",
       "  <tbody>\n",
       "    <tr>\n",
       "      <th>count</th>\n",
       "      <td>325</td>\n",
       "      <td>0</td>\n",
       "      <td>325</td>\n",
       "      <td>325</td>\n",
       "      <td>325</td>\n",
       "      <td>325</td>\n",
       "      <td>0</td>\n",
       "      <td>325</td>\n",
       "    </tr>\n",
       "    <tr>\n",
       "      <th>unique</th>\n",
       "      <td>1</td>\n",
       "      <td>0</td>\n",
       "      <td>2</td>\n",
       "      <td>1</td>\n",
       "      <td>1</td>\n",
       "      <td>1</td>\n",
       "      <td>0</td>\n",
       "      <td>1</td>\n",
       "    </tr>\n",
       "    <tr>\n",
       "      <th>top</th>\n",
       "      <td>prenatal</td>\n",
       "      <td>NaN</td>\n",
       "      <td>pregnancy</td>\n",
       "      <td>t</td>\n",
       "      <td>t</td>\n",
       "      <td>t</td>\n",
       "      <td>NaN</td>\n",
       "      <td>f</td>\n",
       "    </tr>\n",
       "    <tr>\n",
       "      <th>freq</th>\n",
       "      <td>325</td>\n",
       "      <td>NaN</td>\n",
       "      <td>313</td>\n",
       "      <td>325</td>\n",
       "      <td>325</td>\n",
       "      <td>325</td>\n",
       "      <td>NaN</td>\n",
       "      <td>325</td>\n",
       "    </tr>\n",
       "  </tbody>\n",
       "</table>\n",
       "</div>"
      ],
      "text/plain": [
       "        hospital gender  diagnosis blood_test  ecg ultrasound  mri xray\n",
       "count        325      0        325        325  325        325    0  325\n",
       "unique         1      0          2          1    1          1    0    1\n",
       "top     prenatal    NaN  pregnancy          t    t          t  NaN    f\n",
       "freq         325    NaN        313        325  325        325  NaN  325"
      ]
     },
     "execution_count": 6,
     "metadata": {},
     "output_type": "execute_result"
    }
   ],
   "source": [
    "data[data['gender'].isnull()].describe(include=['object'])"
   ]
  },
  {
   "cell_type": "markdown",
   "metadata": {},
   "source": [
    "From the table above we can see that gender is only missing for patients in the prenatal hospital. Assuming that all the patients there are female, we can safely replace the missing values:"
   ]
  },
  {
   "cell_type": "code",
   "execution_count": 7,
   "metadata": {},
   "outputs": [],
   "source": [
    "data['gender'].fillna(value='f',inplace=True)"
   ]
  },
  {
   "cell_type": "markdown",
   "metadata": {},
   "source": [
    "<b><font color = 'red'> Question 1.1</font> What are the other attributes with missing values in the data? Why are they missing? Should these values be filled in or ignored? Why? </b>"
   ]
  },
  {
   "cell_type": "markdown",
   "metadata": {},
   "source": [
    "[Your answer here]"
   ]
  },
  {
   "cell_type": "code",
   "execution_count": 8,
   "metadata": {},
   "outputs": [
    {
     "data": {
      "text/plain": [
       "hospital        0\n",
       "gender          0\n",
       "age             0\n",
       "height          0\n",
       "weight          0\n",
       "bmi             0\n",
       "diagnosis       0\n",
       "blood_test    286\n",
       "ecg           400\n",
       "ultrasound    520\n",
       "mri           786\n",
       "xray          389\n",
       "children      675\n",
       "months        670\n",
       "dtype: int64"
      ]
     },
     "execution_count": 8,
     "metadata": {},
     "output_type": "execute_result"
    }
   ],
   "source": [
    "data.isnull().sum()"
   ]
  },
  {
   "cell_type": "markdown",
   "metadata": {},
   "source": [
    "## Summary tables"
   ]
  },
  {
   "cell_type": "markdown",
   "metadata": {},
   "source": [
    "For categorical (type `object`) features we can use the `value_counts` method to count occurences of each distinct value."
   ]
  },
  {
   "cell_type": "markdown",
   "metadata": {},
   "source": [
    "Let’s have a look at the distribution of `gender`:"
   ]
  },
  {
   "cell_type": "code",
   "execution_count": 9,
   "metadata": {},
   "outputs": [
    {
     "data": {
      "text/plain": [
       "f    0.649\n",
       "m    0.351\n",
       "Name: gender, dtype: float64"
      ]
     },
     "execution_count": 9,
     "metadata": {},
     "output_type": "execute_result"
    }
   ],
   "source": [
    "data['gender'].value_counts(normalize=True)"
   ]
  },
  {
   "cell_type": "markdown",
   "metadata": {},
   "source": [
    "So, the majority (about 65%) of the patients in our data set are female. Now answer the following question:"
   ]
  },
  {
   "cell_type": "markdown",
   "metadata": {},
   "source": [
    "<b><font color = 'red'>Question 1.2: </font> Which hospital has the highest number of patients?</b>"
   ]
  },
  {
   "cell_type": "code",
   "execution_count": 25,
   "metadata": {},
   "outputs": [
    {
     "data": {
      "text/plain": [
       "general     461\n",
       "prenatal    325\n",
       "sports      214\n",
       "Name: hospital, dtype: int64"
      ]
     },
     "execution_count": 25,
     "metadata": {},
     "output_type": "execute_result"
    }
   ],
   "source": [
    "data['hospital'].value_counts(normalize=False)"
   ]
  },
  {
   "cell_type": "markdown",
   "metadata": {},
   "source": [
    "Suppose we now want to see how the observations in our sample are distributed in the context of two nominal variables , ` hospital` and `gender`. To do so, we can build a <b>contingency table</b> using the <a href=https://pandas.pydata.org/pandas-docs/stable/generated/pandas.crosstab.html>`crosstab`</a> method:"
   ]
  },
  {
   "cell_type": "code",
   "execution_count": 11,
   "metadata": {},
   "outputs": [
    {
     "data": {
      "text/html": [
       "<div>\n",
       "<style scoped>\n",
       "    .dataframe tbody tr th:only-of-type {\n",
       "        vertical-align: middle;\n",
       "    }\n",
       "\n",
       "    .dataframe tbody tr th {\n",
       "        vertical-align: top;\n",
       "    }\n",
       "\n",
       "    .dataframe thead th {\n",
       "        text-align: right;\n",
       "    }\n",
       "</style>\n",
       "<table border=\"1\" class=\"dataframe\">\n",
       "  <thead>\n",
       "    <tr style=\"text-align: right;\">\n",
       "      <th>gender</th>\n",
       "      <th>f</th>\n",
       "      <th>m</th>\n",
       "    </tr>\n",
       "    <tr>\n",
       "      <th>hospital</th>\n",
       "      <th></th>\n",
       "      <th></th>\n",
       "    </tr>\n",
       "  </thead>\n",
       "  <tbody>\n",
       "    <tr>\n",
       "      <th>general</th>\n",
       "      <td>219</td>\n",
       "      <td>242</td>\n",
       "    </tr>\n",
       "    <tr>\n",
       "      <th>prenatal</th>\n",
       "      <td>325</td>\n",
       "      <td>0</td>\n",
       "    </tr>\n",
       "    <tr>\n",
       "      <th>sports</th>\n",
       "      <td>105</td>\n",
       "      <td>109</td>\n",
       "    </tr>\n",
       "  </tbody>\n",
       "</table>\n",
       "</div>"
      ],
      "text/plain": [
       "gender      f    m\n",
       "hospital          \n",
       "general   219  242\n",
       "prenatal  325    0\n",
       "sports    105  109"
      ]
     },
     "execution_count": 11,
     "metadata": {},
     "output_type": "execute_result"
    }
   ],
   "source": [
    "pd.crosstab(data['hospital'], data['gender'])"
   ]
  },
  {
   "cell_type": "markdown",
   "metadata": {},
   "source": [
    "<b><font color = 'red'>Question 1.3: </font> Construct a similar table to answer the following question: what share of patients in the general hospital suffer from stomach-related problems?</b>\n",
    "\n",
    "Hint: to get percentage instead of the raw counts, play around with `normalize` parameter of the `crosstab` function."
   ]
  },
  {
   "cell_type": "code",
   "execution_count": 26,
   "metadata": {},
   "outputs": [
    {
     "data": {
      "text/html": [
       "<div>\n",
       "<style scoped>\n",
       "    .dataframe tbody tr th:only-of-type {\n",
       "        vertical-align: middle;\n",
       "    }\n",
       "\n",
       "    .dataframe tbody tr th {\n",
       "        vertical-align: top;\n",
       "    }\n",
       "\n",
       "    .dataframe thead th {\n",
       "        text-align: right;\n",
       "    }\n",
       "</style>\n",
       "<table border=\"1\" class=\"dataframe\">\n",
       "  <thead>\n",
       "    <tr style=\"text-align: right;\">\n",
       "      <th>diagnosis</th>\n",
       "      <th>cold</th>\n",
       "      <th>dislocation</th>\n",
       "      <th>fracture</th>\n",
       "      <th>heart</th>\n",
       "      <th>pregnancy</th>\n",
       "      <th>sprain</th>\n",
       "      <th>stomach</th>\n",
       "    </tr>\n",
       "    <tr>\n",
       "      <th>hospital</th>\n",
       "      <th></th>\n",
       "      <th></th>\n",
       "      <th></th>\n",
       "      <th></th>\n",
       "      <th></th>\n",
       "      <th></th>\n",
       "      <th></th>\n",
       "    </tr>\n",
       "  </thead>\n",
       "  <tbody>\n",
       "    <tr>\n",
       "      <th>general</th>\n",
       "      <td>0.178</td>\n",
       "      <td>0.025</td>\n",
       "      <td>0.024</td>\n",
       "      <td>0.056</td>\n",
       "      <td>0.005</td>\n",
       "      <td>0.023</td>\n",
       "      <td>0.150</td>\n",
       "    </tr>\n",
       "    <tr>\n",
       "      <th>prenatal</th>\n",
       "      <td>0.012</td>\n",
       "      <td>0.000</td>\n",
       "      <td>0.000</td>\n",
       "      <td>0.000</td>\n",
       "      <td>0.313</td>\n",
       "      <td>0.000</td>\n",
       "      <td>0.000</td>\n",
       "    </tr>\n",
       "    <tr>\n",
       "      <th>sports</th>\n",
       "      <td>0.004</td>\n",
       "      <td>0.061</td>\n",
       "      <td>0.061</td>\n",
       "      <td>0.000</td>\n",
       "      <td>0.000</td>\n",
       "      <td>0.081</td>\n",
       "      <td>0.007</td>\n",
       "    </tr>\n",
       "  </tbody>\n",
       "</table>\n",
       "</div>"
      ],
      "text/plain": [
       "diagnosis   cold  dislocation  fracture  heart  pregnancy  sprain  stomach\n",
       "hospital                                                                  \n",
       "general    0.178        0.025     0.024  0.056      0.005   0.023    0.150\n",
       "prenatal   0.012        0.000     0.000  0.000      0.313   0.000    0.000\n",
       "sports     0.004        0.061     0.061  0.000      0.000   0.081    0.007"
      ]
     },
     "execution_count": 26,
     "metadata": {},
     "output_type": "execute_result"
    }
   ],
   "source": [
    "pd.crosstab(data['hospital'], data['diagnosis'], normalize=True)"
   ]
  },
  {
   "cell_type": "markdown",
   "metadata": {},
   "source": [
    "If you want to look into the relationship between a nominal and numerical feature, you can use the `pivot_table` method, which takes the following parameters:\n",
    "* `values` – a list of variables to calculate statistics for,\n",
    "* `index` – a list of variables to group data by,\n",
    "* `aggfunc`  —  what statistics we need to calculate for groups - e.g sum, mean, maximum, minimum or something else.\n",
    "\n",
    "Let's see the average age of patients with different diagnosis: "
   ]
  },
  {
   "cell_type": "code",
   "execution_count": 13,
   "metadata": {},
   "outputs": [
    {
     "data": {
      "text/html": [
       "<div>\n",
       "<style scoped>\n",
       "    .dataframe tbody tr th:only-of-type {\n",
       "        vertical-align: middle;\n",
       "    }\n",
       "\n",
       "    .dataframe tbody tr th {\n",
       "        vertical-align: top;\n",
       "    }\n",
       "\n",
       "    .dataframe thead th {\n",
       "        text-align: right;\n",
       "    }\n",
       "</style>\n",
       "<table border=\"1\" class=\"dataframe\">\n",
       "  <thead>\n",
       "    <tr style=\"text-align: right;\">\n",
       "      <th></th>\n",
       "      <th>age</th>\n",
       "    </tr>\n",
       "    <tr>\n",
       "      <th>diagnosis</th>\n",
       "      <th></th>\n",
       "    </tr>\n",
       "  </thead>\n",
       "  <tbody>\n",
       "    <tr>\n",
       "      <th>cold</th>\n",
       "      <td>38.664948</td>\n",
       "    </tr>\n",
       "    <tr>\n",
       "      <th>dislocation</th>\n",
       "      <td>25.662791</td>\n",
       "    </tr>\n",
       "    <tr>\n",
       "      <th>fracture</th>\n",
       "      <td>25.070588</td>\n",
       "    </tr>\n",
       "    <tr>\n",
       "      <th>heart</th>\n",
       "      <td>39.660714</td>\n",
       "    </tr>\n",
       "    <tr>\n",
       "      <th>pregnancy</th>\n",
       "      <td>29.468553</td>\n",
       "    </tr>\n",
       "    <tr>\n",
       "      <th>sprain</th>\n",
       "      <td>23.365385</td>\n",
       "    </tr>\n",
       "    <tr>\n",
       "      <th>stomach</th>\n",
       "      <td>37.573248</td>\n",
       "    </tr>\n",
       "  </tbody>\n",
       "</table>\n",
       "</div>"
      ],
      "text/plain": [
       "                   age\n",
       "diagnosis             \n",
       "cold         38.664948\n",
       "dislocation  25.662791\n",
       "fracture     25.070588\n",
       "heart        39.660714\n",
       "pregnancy    29.468553\n",
       "sprain       23.365385\n",
       "stomach      37.573248"
      ]
     },
     "execution_count": 13,
     "metadata": {},
     "output_type": "execute_result"
    }
   ],
   "source": [
    "data.pivot_table(values=['age'], index=['diagnosis'], aggfunc='mean')"
   ]
  },
  {
   "cell_type": "markdown",
   "metadata": {},
   "source": [
    "<b><font color = 'red'>Question 1.4: </font> Now build a similar table to answer the following question: what is the difference in median ages of the patients in general and sports hospitals?</b>"
   ]
  },
  {
   "cell_type": "code",
   "execution_count": 14,
   "metadata": {},
   "outputs": [
    {
     "data": {
      "text/html": [
       "<div>\n",
       "<style scoped>\n",
       "    .dataframe tbody tr th:only-of-type {\n",
       "        vertical-align: middle;\n",
       "    }\n",
       "\n",
       "    .dataframe tbody tr th {\n",
       "        vertical-align: top;\n",
       "    }\n",
       "\n",
       "    .dataframe thead th {\n",
       "        text-align: right;\n",
       "    }\n",
       "</style>\n",
       "<table border=\"1\" class=\"dataframe\">\n",
       "  <thead>\n",
       "    <tr style=\"text-align: right;\">\n",
       "      <th></th>\n",
       "      <th>age</th>\n",
       "    </tr>\n",
       "    <tr>\n",
       "      <th>diagnosis</th>\n",
       "      <th></th>\n",
       "    </tr>\n",
       "  </thead>\n",
       "  <tbody>\n",
       "    <tr>\n",
       "      <th>cold</th>\n",
       "      <td>37.0</td>\n",
       "    </tr>\n",
       "    <tr>\n",
       "      <th>dislocation</th>\n",
       "      <td>21.0</td>\n",
       "    </tr>\n",
       "    <tr>\n",
       "      <th>fracture</th>\n",
       "      <td>22.0</td>\n",
       "    </tr>\n",
       "    <tr>\n",
       "      <th>heart</th>\n",
       "      <td>39.5</td>\n",
       "    </tr>\n",
       "    <tr>\n",
       "      <th>pregnancy</th>\n",
       "      <td>30.0</td>\n",
       "    </tr>\n",
       "    <tr>\n",
       "      <th>sprain</th>\n",
       "      <td>20.0</td>\n",
       "    </tr>\n",
       "    <tr>\n",
       "      <th>stomach</th>\n",
       "      <td>35.0</td>\n",
       "    </tr>\n",
       "  </tbody>\n",
       "</table>\n",
       "</div>"
      ],
      "text/plain": [
       "              age\n",
       "diagnosis        \n",
       "cold         37.0\n",
       "dislocation  21.0\n",
       "fracture     22.0\n",
       "heart        39.5\n",
       "pregnancy    30.0\n",
       "sprain       20.0\n",
       "stomach      35.0"
      ]
     },
     "execution_count": 14,
     "metadata": {},
     "output_type": "execute_result"
    }
   ],
   "source": [
    "data.pivot_table(values=['age'], index=['diagnosis'], aggfunc='median')"
   ]
  },
  {
   "cell_type": "markdown",
   "metadata": {},
   "source": [
    "## Data visualisation\n",
    "Visualisation is the primary way to get a high-level understanding of the data. We use `matplotlib` as the plotting engine, whereas `seaborn` provides a plethora of convenient shortcuts to most common plotting tasks. The following snippet imports these packages."
   ]
  },
  {
   "cell_type": "code",
   "execution_count": 15,
   "metadata": {},
   "outputs": [],
   "source": [
    "%matplotlib inline\n",
    "import matplotlib as plt\n",
    "import seaborn as sns"
   ]
  },
  {
   "cell_type": "markdown",
   "metadata": {},
   "source": [
    "###  Individual attributes"
   ]
  },
  {
   "cell_type": "markdown",
   "metadata": {},
   "source": [
    "The basic tool for visualising **categorical** attributes is a histogram, which shows frequencies of individual values of an attribute. The following plot illusrates the number of patients in different hospitals:"
   ]
  },
  {
   "cell_type": "code",
   "execution_count": 16,
   "metadata": {},
   "outputs": [
    {
     "data": {
      "text/plain": [
       "Text(0.5, 1.0, 'The number of patients per hospital')"
      ]
     },
     "execution_count": 16,
     "metadata": {},
     "output_type": "execute_result"
    },
    {
     "data": {
      "image/png": "[encoded data removed]",
      "text/plain": [
       "<Figure size 432x288 with 1 Axes>"
      ]
     },
     "metadata": {
      "needs_background": "light"
     },
     "output_type": "display_data"
    }
   ],
   "source": [
    "hist = sns.countplot(x='hospital',data=data)\n",
    "hist.set_title('The number of patients per hospital')"
   ]
  },
  {
   "cell_type": "markdown",
   "metadata": {},
   "source": [
    "The distribution of an individual **numeric** attribute can be discretised and visualised with a histogram using `distplot`.\n",
    "\n",
    "Let's explore the distribution of the patients' height in our data set:"
   ]
  },
  {
   "cell_type": "code",
   "execution_count": 27,
   "metadata": {},
   "outputs": [
    {
     "data": {
      "text/plain": [
       "<seaborn.axisgrid.FacetGrid at 0x7f99b9d5cd30>"
      ]
     },
     "execution_count": 27,
     "metadata": {},
     "output_type": "execute_result"
    },
    {
     "data": {
      "image/png": "[encoded data removed]",
      "text/plain": [
       "<Figure size 360x360 with 1 Axes>"
      ]
     },
     "metadata": {
      "needs_background": "light"
     },
     "output_type": "display_data"
    }
   ],
   "source": [
    "sns.displot(data['height'])"
   ]
  },
  {
   "cell_type": "markdown",
   "metadata": {},
   "source": [
    "<b><font color = 'red'>Question 1.5: </font> Looking at the plot above, explain what is the problem with the height measurements in the data set. Fix it, and then look into the distribution again. </b>\n",
    "\n",
    "<i>Hint: to fix the issue, you may need to use <a href = https://pandas.pydata.org/pandas-docs/stable/generated/pandas.DataFrame.loc.html>`DataFrame.loc[]`</a> indexer.</i>"
   ]
  },
  {
   "cell_type": "markdown",
   "metadata": {},
   "source": [
    "[Your answer here]"
   ]
  },
  {
   "cell_type": "code",
   "execution_count": 29,
   "metadata": {},
   "outputs": [],
   "source": [
    "data.loc[data['height']>3, 'height'] = 0.3048 * data.loc[data['height']>3, 'height']"
   ]
  },
  {
   "cell_type": "markdown",
   "metadata": {},
   "source": [
    "### Pairs of attributes\n",
    "\n",
    "Pairwise attribute relationships can be visualised with variations of a scatter plot. Furthermore, the third variable can be brought into the mix via colouring data points. See <a href = 'https://seaborn.pydata.org/generated/seaborn.catplot.html'>`seaborn.catplot`</a> for more info."
   ]
  },
  {
   "cell_type": "markdown",
   "metadata": {},
   "source": [
    "We start with visualising a pair of categorical attributes: `diagnosis` and `hospital`"
   ]
  },
  {
   "cell_type": "code",
   "execution_count": 19,
   "metadata": {},
   "outputs": [
    {
     "data": {
      "text/plain": [
       "<seaborn.axisgrid.FacetGrid at 0x7f99bba63460>"
      ]
     },
     "execution_count": 19,
     "metadata": {},
     "output_type": "execute_result"
    },
    {
     "data": {
      "image/png": "[encoded data removed]",
      "text/plain": [
       "<Figure size 1080x360 with 3 Axes>"
      ]
     },
     "metadata": {
      "needs_background": "light"
     },
     "output_type": "display_data"
    }
   ],
   "source": [
    "sns.catplot(y='diagnosis', col='hospital', data=data, kind='count')"
   ]
  },
  {
   "cell_type": "markdown",
   "metadata": {},
   "source": [
    "[Your observations here]"
   ]
  },
  {
   "cell_type": "markdown",
   "metadata": {},
   "source": [
    "Let's now visualise the patients' `weight` distribution with respect to the `hospital` type.\n",
    "\n",
    "`violinplot` shows the distribution of quantitative data across several levels of one (or more) categorical variables such that those distributions can be compared. Unlike a box plot, in which all of the plot components correspond to actual datapoints, the violin plot features a kernel density estimation of the underlying distribution."
   ]
  },
  {
   "cell_type": "code",
   "execution_count": 20,
   "metadata": {},
   "outputs": [
    {
     "data": {
      "text/plain": [
       "<AxesSubplot:xlabel='hospital', ylabel='weight'>"
      ]
     },
     "execution_count": 20,
     "metadata": {},
     "output_type": "execute_result"
    },
    {
     "data": {
      "image/png": "[encoded data removed]",
      "text/plain": [
       "<Figure size 432x288 with 1 Axes>"
      ]
     },
     "metadata": {
      "needs_background": "light"
     },
     "output_type": "display_data"
    }
   ],
   "source": [
    "sns.violinplot(x='hospital', y='weight', data=data)"
   ]
  },
  {
   "cell_type": "markdown",
   "metadata": {},
   "source": [
    "<b><font color = 'red'>Question 1.6: </font> The weight values from the sports hospital seem unnaturally high. What is the problem? Can you fix it?</b>"
   ]
  },
  {
   "cell_type": "markdown",
   "metadata": {},
   "source": [
    "[Your answer here]"
   ]
  },
  {
   "cell_type": "code",
   "execution_count": 31,
   "metadata": {},
   "outputs": [],
   "source": [
    "data.loc[data['hospital'] == 'sports', 'weight'] = 0.453592 * data.loc[data['hospital'] == 'sports', 'weight']"
   ]
  },
  {
   "cell_type": "markdown",
   "metadata": {},
   "source": [
    "Now that the `weight` and `height` measures are all in the same units, we can look into their mutual distributuion.\n",
    "\n",
    "With `jointplot` one can draw a scatter plot of two numerical features along with their univariate distribution."
   ]
  },
  {
   "cell_type": "code",
   "execution_count": 32,
   "metadata": {},
   "outputs": [
    {
     "data": {
      "text/plain": [
       "<seaborn.axisgrid.JointGrid at 0x7f99bc8400a0>"
      ]
     },
     "execution_count": 32,
     "metadata": {},
     "output_type": "execute_result"
    },
    {
     "data": {
      "image/png": "[encoded data removed]",
      "text/plain": [
       "<Figure size 432x432 with 3 Axes>"
      ]
     },
     "metadata": {
      "needs_background": "light"
     },
     "output_type": "display_data"
    }
   ],
   "source": [
    "sns.jointplot(x='height', y='weight', data=data, kind='scatter')"
   ]
  },
  {
   "cell_type": "markdown",
   "metadata": {},
   "source": [
    "<b><font color = 'red'>Question 1.7: </font> Make the same plot for `height` and `bmi`. Discuss the two plots.</b>"
   ]
  },
  {
   "cell_type": "markdown",
   "metadata": {},
   "source": [
    "[Your observations here]"
   ]
  },
  {
   "cell_type": "code",
   "execution_count": 33,
   "metadata": {},
   "outputs": [
    {
     "data": {
      "text/plain": [
       "<seaborn.axisgrid.JointGrid at 0x7f99bcda9c70>"
      ]
     },
     "execution_count": 33,
     "metadata": {},
     "output_type": "execute_result"
    },
    {
     "data": {
      "image/png": "[encoded data removed]",
      "text/plain": [
       "<Figure size 432x432 with 3 Axes>"
      ]
     },
     "metadata": {
      "needs_background": "light"
     },
     "output_type": "display_data"
    }
   ],
   "source": [
    "sns.jointplot(x='height', y='bmi', data=data, kind='scatter')"
   ]
  },
  {
   "cell_type": "markdown",
   "metadata": {},
   "source": [
    "<center>\n",
    "<b> This is the end of the first exercise. Please proceed with the next notebook.</b>\n",
    "</center>"
   ]
  },
  {
   "cell_type": "markdown",
   "metadata": {},
   "source": [
    "## References\n",
    "\n",
    "[1] Pandas documentation (<a href = http://pandas.pydata.org/pandas-docs/stable/>link</a>)\n",
    "<br>\n",
    "[2] Seaborn documentation (<a href = https://seaborn.pydata.org/>link</a>)\n",
    "<br>\n",
    "[3] Open Machine Learning Course. Topic 1. Exploratory data analysis with Pandas (<a href = 'https://medium.com/open-machine-learning-course/open-machine-learning-course-topic-1-exploratory-data-analysis-with-pandas-de57880f1a68'>link</a>)"
   ]
  }
 ],
 "metadata": {
  "git": {
   "suppress_outputs": true
  },
  "kernelspec": {
   "display_name": "Python 3",
   "language": "python",
   "name": "python3"
  },
  "language_info": {
   "codemirror_mode": {
    "name": "ipython",
    "version": 3
   },
   "file_extension": ".py",
   "mimetype": "text/x-python",
   "name": "python",
   "nbconvert_exporter": "python",
   "pygments_lexer": "ipython3",
   "version": "3.8.5"
  },
  "toc": {
   "base_numbering": 1,
   "nav_menu": {},
   "number_sections": true,
   "sideBar": true,
   "skip_h1_title": false,
   "title_cell": "Table of Contents",
   "title_sidebar": "Contents",
   "toc_cell": false,
   "toc_position": {},
   "toc_section_display": true,
   "toc_window_display": true
  }
 },
 "nbformat": 4,
 "nbformat_minor": 1
}
