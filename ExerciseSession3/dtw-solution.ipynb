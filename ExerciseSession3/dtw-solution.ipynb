{
 "cells": [
  {
   "cell_type": "markdown",
   "metadata": {},
   "source": [
    "# Dynamic Time Warping\n",
    "\n",
    "In this notebook, you are going to classify time series data with the 1-NN algorithm, using two different approaches to compute the distance between time series: the Euclidean distance and the Dynamic Time Warping (DTW) distance. The comparison will be made for time series of equal length as well as for varying-length time series."
   ]
  },
  {
   "cell_type": "markdown",
   "metadata": {},
   "source": [
    "## Processing the data\n",
    "\n",
    "The goal is to predict, based on hourly rentals, if a given day is a working day or not. Start by loading the `hour.csv` file, where each line contains information about the bike renting system for one hour. Take care to properly parse the date information of the data as done before. The number of rentals is recorded in the `cnt` column."
   ]
  },
  {
   "cell_type": "code",
   "execution_count": 1,
   "metadata": {
    "ExecuteTime": {
     "end_time": "2020-04-07T08:03:31.027439Z",
     "start_time": "2020-04-07T08:03:30.537333Z"
    }
   },
   "outputs": [
    {
     "name": "stdout",
     "output_type": "stream",
     "text": [
      "(17379, 17)\n"
     ]
    },
    {
     "data": {
      "text/html": [
       "<div>\n",
       "<style scoped>\n",
       "    .dataframe tbody tr th:only-of-type {\n",
       "        vertical-align: middle;\n",
       "    }\n",
       "\n",
       "    .dataframe tbody tr th {\n",
       "        vertical-align: top;\n",
       "    }\n",
       "\n",
       "    .dataframe thead th {\n",
       "        text-align: right;\n",
       "    }\n",
       "</style>\n",
       "<table border=\"1\" class=\"dataframe\">\n",
       "  <thead>\n",
       "    <tr style=\"text-align: right;\">\n",
       "      <th></th>\n",
       "      <th>instant</th>\n",
       "      <th>dteday</th>\n",
       "      <th>season</th>\n",
       "      <th>yr</th>\n",
       "      <th>mnth</th>\n",
       "      <th>hr</th>\n",
       "      <th>holiday</th>\n",
       "      <th>weekday</th>\n",
       "      <th>workingday</th>\n",
       "      <th>weathersit</th>\n",
       "      <th>temp</th>\n",
       "      <th>atemp</th>\n",
       "      <th>hum</th>\n",
       "      <th>windspeed</th>\n",
       "      <th>casual</th>\n",
       "      <th>registered</th>\n",
       "      <th>cnt</th>\n",
       "    </tr>\n",
       "  </thead>\n",
       "  <tbody>\n",
       "    <tr>\n",
       "      <th>0</th>\n",
       "      <td>1</td>\n",
       "      <td>2011-01-01</td>\n",
       "      <td>1</td>\n",
       "      <td>0</td>\n",
       "      <td>1</td>\n",
       "      <td>0</td>\n",
       "      <td>0</td>\n",
       "      <td>6</td>\n",
       "      <td>0</td>\n",
       "      <td>1</td>\n",
       "      <td>0.24</td>\n",
       "      <td>0.2879</td>\n",
       "      <td>0.81</td>\n",
       "      <td>0.0000</td>\n",
       "      <td>3</td>\n",
       "      <td>13</td>\n",
       "      <td>16</td>\n",
       "    </tr>\n",
       "    <tr>\n",
       "      <th>1</th>\n",
       "      <td>2</td>\n",
       "      <td>2011-01-01</td>\n",
       "      <td>1</td>\n",
       "      <td>0</td>\n",
       "      <td>1</td>\n",
       "      <td>1</td>\n",
       "      <td>0</td>\n",
       "      <td>6</td>\n",
       "      <td>0</td>\n",
       "      <td>1</td>\n",
       "      <td>0.22</td>\n",
       "      <td>0.2727</td>\n",
       "      <td>0.80</td>\n",
       "      <td>0.0000</td>\n",
       "      <td>8</td>\n",
       "      <td>32</td>\n",
       "      <td>40</td>\n",
       "    </tr>\n",
       "    <tr>\n",
       "      <th>2</th>\n",
       "      <td>3</td>\n",
       "      <td>2011-01-01</td>\n",
       "      <td>1</td>\n",
       "      <td>0</td>\n",
       "      <td>1</td>\n",
       "      <td>2</td>\n",
       "      <td>0</td>\n",
       "      <td>6</td>\n",
       "      <td>0</td>\n",
       "      <td>1</td>\n",
       "      <td>0.22</td>\n",
       "      <td>0.2727</td>\n",
       "      <td>0.80</td>\n",
       "      <td>0.0000</td>\n",
       "      <td>5</td>\n",
       "      <td>27</td>\n",
       "      <td>32</td>\n",
       "    </tr>\n",
       "    <tr>\n",
       "      <th>3</th>\n",
       "      <td>4</td>\n",
       "      <td>2011-01-01</td>\n",
       "      <td>1</td>\n",
       "      <td>0</td>\n",
       "      <td>1</td>\n",
       "      <td>3</td>\n",
       "      <td>0</td>\n",
       "      <td>6</td>\n",
       "      <td>0</td>\n",
       "      <td>1</td>\n",
       "      <td>0.24</td>\n",
       "      <td>0.2879</td>\n",
       "      <td>0.75</td>\n",
       "      <td>0.0000</td>\n",
       "      <td>3</td>\n",
       "      <td>10</td>\n",
       "      <td>13</td>\n",
       "    </tr>\n",
       "    <tr>\n",
       "      <th>4</th>\n",
       "      <td>5</td>\n",
       "      <td>2011-01-01</td>\n",
       "      <td>1</td>\n",
       "      <td>0</td>\n",
       "      <td>1</td>\n",
       "      <td>4</td>\n",
       "      <td>0</td>\n",
       "      <td>6</td>\n",
       "      <td>0</td>\n",
       "      <td>1</td>\n",
       "      <td>0.24</td>\n",
       "      <td>0.2879</td>\n",
       "      <td>0.75</td>\n",
       "      <td>0.0000</td>\n",
       "      <td>0</td>\n",
       "      <td>1</td>\n",
       "      <td>1</td>\n",
       "    </tr>\n",
       "    <tr>\n",
       "      <th>5</th>\n",
       "      <td>6</td>\n",
       "      <td>2011-01-01</td>\n",
       "      <td>1</td>\n",
       "      <td>0</td>\n",
       "      <td>1</td>\n",
       "      <td>5</td>\n",
       "      <td>0</td>\n",
       "      <td>6</td>\n",
       "      <td>0</td>\n",
       "      <td>2</td>\n",
       "      <td>0.24</td>\n",
       "      <td>0.2576</td>\n",
       "      <td>0.75</td>\n",
       "      <td>0.0896</td>\n",
       "      <td>0</td>\n",
       "      <td>1</td>\n",
       "      <td>1</td>\n",
       "    </tr>\n",
       "    <tr>\n",
       "      <th>6</th>\n",
       "      <td>7</td>\n",
       "      <td>2011-01-01</td>\n",
       "      <td>1</td>\n",
       "      <td>0</td>\n",
       "      <td>1</td>\n",
       "      <td>6</td>\n",
       "      <td>0</td>\n",
       "      <td>6</td>\n",
       "      <td>0</td>\n",
       "      <td>1</td>\n",
       "      <td>0.22</td>\n",
       "      <td>0.2727</td>\n",
       "      <td>0.80</td>\n",
       "      <td>0.0000</td>\n",
       "      <td>2</td>\n",
       "      <td>0</td>\n",
       "      <td>2</td>\n",
       "    </tr>\n",
       "    <tr>\n",
       "      <th>7</th>\n",
       "      <td>8</td>\n",
       "      <td>2011-01-01</td>\n",
       "      <td>1</td>\n",
       "      <td>0</td>\n",
       "      <td>1</td>\n",
       "      <td>7</td>\n",
       "      <td>0</td>\n",
       "      <td>6</td>\n",
       "      <td>0</td>\n",
       "      <td>1</td>\n",
       "      <td>0.20</td>\n",
       "      <td>0.2576</td>\n",
       "      <td>0.86</td>\n",
       "      <td>0.0000</td>\n",
       "      <td>1</td>\n",
       "      <td>2</td>\n",
       "      <td>3</td>\n",
       "    </tr>\n",
       "    <tr>\n",
       "      <th>8</th>\n",
       "      <td>9</td>\n",
       "      <td>2011-01-01</td>\n",
       "      <td>1</td>\n",
       "      <td>0</td>\n",
       "      <td>1</td>\n",
       "      <td>8</td>\n",
       "      <td>0</td>\n",
       "      <td>6</td>\n",
       "      <td>0</td>\n",
       "      <td>1</td>\n",
       "      <td>0.24</td>\n",
       "      <td>0.2879</td>\n",
       "      <td>0.75</td>\n",
       "      <td>0.0000</td>\n",
       "      <td>1</td>\n",
       "      <td>7</td>\n",
       "      <td>8</td>\n",
       "    </tr>\n",
       "    <tr>\n",
       "      <th>9</th>\n",
       "      <td>10</td>\n",
       "      <td>2011-01-01</td>\n",
       "      <td>1</td>\n",
       "      <td>0</td>\n",
       "      <td>1</td>\n",
       "      <td>9</td>\n",
       "      <td>0</td>\n",
       "      <td>6</td>\n",
       "      <td>0</td>\n",
       "      <td>1</td>\n",
       "      <td>0.32</td>\n",
       "      <td>0.3485</td>\n",
       "      <td>0.76</td>\n",
       "      <td>0.0000</td>\n",
       "      <td>8</td>\n",
       "      <td>6</td>\n",
       "      <td>14</td>\n",
       "    </tr>\n",
       "  </tbody>\n",
       "</table>\n",
       "</div>"
      ],
      "text/plain": [
       "   instant     dteday  season  yr  mnth  hr  holiday  weekday  workingday  \\\n",
       "0        1 2011-01-01       1   0     1   0        0        6           0   \n",
       "1        2 2011-01-01       1   0     1   1        0        6           0   \n",
       "2        3 2011-01-01       1   0     1   2        0        6           0   \n",
       "3        4 2011-01-01       1   0     1   3        0        6           0   \n",
       "4        5 2011-01-01       1   0     1   4        0        6           0   \n",
       "5        6 2011-01-01       1   0     1   5        0        6           0   \n",
       "6        7 2011-01-01       1   0     1   6        0        6           0   \n",
       "7        8 2011-01-01       1   0     1   7        0        6           0   \n",
       "8        9 2011-01-01       1   0     1   8        0        6           0   \n",
       "9       10 2011-01-01       1   0     1   9        0        6           0   \n",
       "\n",
       "   weathersit  temp   atemp   hum  windspeed  casual  registered  cnt  \n",
       "0           1  0.24  0.2879  0.81     0.0000       3          13   16  \n",
       "1           1  0.22  0.2727  0.80     0.0000       8          32   40  \n",
       "2           1  0.22  0.2727  0.80     0.0000       5          27   32  \n",
       "3           1  0.24  0.2879  0.75     0.0000       3          10   13  \n",
       "4           1  0.24  0.2879  0.75     0.0000       0           1    1  \n",
       "5           2  0.24  0.2576  0.75     0.0896       0           1    1  \n",
       "6           1  0.22  0.2727  0.80     0.0000       2           0    2  \n",
       "7           1  0.20  0.2576  0.86     0.0000       1           2    3  \n",
       "8           1  0.24  0.2879  0.75     0.0000       1           7    8  \n",
       "9           1  0.32  0.3485  0.76     0.0000       8           6   14  "
      ]
     },
     "execution_count": 1,
     "metadata": {},
     "output_type": "execute_result"
    }
   ],
   "source": [
    "import pandas as pd\n",
    "\n",
    "data = pd.read_csv('../datasets/hour.csv', parse_dates=['dteday'])\n",
    "print(data.shape)\n",
    "data.head(10)"
   ]
  },
  {
   "cell_type": "markdown",
   "metadata": {},
   "source": [
    "We want to operate on days, not on hours, but we need to keep track of the hourly data, as the sequences of hourly rentals will be our time-series. The other variables are not necessary. \n",
    "Find a way to aggregate the hourly observations, and create a dataframe with two columns: `counts` and `workingday`. The former should contain a list of the hourly counts. The latter should contain 0's or 1's indicating whether a given row correspond to a working day or not (0 = no, 1 = yes).\n",
    "Note that your lists should contain exactly 24 elements."
   ]
  },
  {
   "cell_type": "code",
   "execution_count": 2,
   "metadata": {
    "ExecuteTime": {
     "end_time": "2020-04-07T08:03:31.198471Z",
     "start_time": "2020-04-07T08:03:31.030799Z"
    }
   },
   "outputs": [
    {
     "data": {
      "text/html": [
       "<div>\n",
       "<style scoped>\n",
       "    .dataframe tbody tr th:only-of-type {\n",
       "        vertical-align: middle;\n",
       "    }\n",
       "\n",
       "    .dataframe tbody tr th {\n",
       "        vertical-align: top;\n",
       "    }\n",
       "\n",
       "    .dataframe thead th {\n",
       "        text-align: right;\n",
       "    }\n",
       "</style>\n",
       "<table border=\"1\" class=\"dataframe\">\n",
       "  <thead>\n",
       "    <tr style=\"text-align: right;\">\n",
       "      <th></th>\n",
       "      <th>counts</th>\n",
       "      <th>workingday</th>\n",
       "    </tr>\n",
       "    <tr>\n",
       "      <th>dteday</th>\n",
       "      <th></th>\n",
       "      <th></th>\n",
       "    </tr>\n",
       "  </thead>\n",
       "  <tbody>\n",
       "    <tr>\n",
       "      <th>2011-01-01</th>\n",
       "      <td>[16, 40, 32, 13, 1, 1, 2, 3, 8, 14, 36, 56, 84...</td>\n",
       "      <td>0</td>\n",
       "    </tr>\n",
       "    <tr>\n",
       "      <th>2011-01-02</th>\n",
       "      <td>[17, 17, 9, 6, 3, 2, 1, 8, 20, 53, 70, 93, 75,...</td>\n",
       "      <td>0</td>\n",
       "    </tr>\n",
       "    <tr>\n",
       "      <th>2011-01-03</th>\n",
       "      <td>[5, 2, 1, 3, 30, 64, 154, 88, 44, 51, 61, 61, ...</td>\n",
       "      <td>1</td>\n",
       "    </tr>\n",
       "    <tr>\n",
       "      <th>2011-01-04</th>\n",
       "      <td>[5, 2, 1, 2, 4, 36, 94, 179, 100, 42, 57, 78, ...</td>\n",
       "      <td>1</td>\n",
       "    </tr>\n",
       "    <tr>\n",
       "      <th>2011-01-05</th>\n",
       "      <td>[6, 6, 2, 2, 3, 33, 88, 195, 115, 57, 46, 79, ...</td>\n",
       "      <td>1</td>\n",
       "    </tr>\n",
       "    <tr>\n",
       "      <th>2011-01-06</th>\n",
       "      <td>[11, 4, 2, 1, 4, 36, 95, 219, 122, 45, 59, 84,...</td>\n",
       "      <td>1</td>\n",
       "    </tr>\n",
       "    <tr>\n",
       "      <th>2011-01-07</th>\n",
       "      <td>[17, 7, 1, 1, 5, 34, 84, 210, 134, 63, 67, 59,...</td>\n",
       "      <td>1</td>\n",
       "    </tr>\n",
       "    <tr>\n",
       "      <th>2011-01-08</th>\n",
       "      <td>[25, 16, 16, 7, 1, 5, 2, 9, 15, 20, 61, 62, 98...</td>\n",
       "      <td>0</td>\n",
       "    </tr>\n",
       "    <tr>\n",
       "      <th>2011-01-09</th>\n",
       "      <td>[25, 12, 11, 4, 1, 1, 1, 6, 10, 19, 49, 49, 83...</td>\n",
       "      <td>0</td>\n",
       "    </tr>\n",
       "    <tr>\n",
       "      <th>2011-01-10</th>\n",
       "      <td>[5, 1, 3, 1, 3, 3, 31, 77, 188, 94, 31, 30, 52...</td>\n",
       "      <td>1</td>\n",
       "    </tr>\n",
       "    <tr>\n",
       "      <th>2011-01-11</th>\n",
       "      <td>[12, 3, 3, 6, 27, 99, 217, 130, 54, 35, 57, 52...</td>\n",
       "      <td>1</td>\n",
       "    </tr>\n",
       "    <tr>\n",
       "      <th>2011-01-12</th>\n",
       "      <td>[7, 6, 1, 5, 16, 54, 128, 81, 39, 35, 55, 49, ...</td>\n",
       "      <td>1</td>\n",
       "    </tr>\n",
       "    <tr>\n",
       "      <th>2011-01-13</th>\n",
       "      <td>[7, 2, 2, 3, 4, 3, 28, 72, 202, 139, 38, 37, 5...</td>\n",
       "      <td>1</td>\n",
       "    </tr>\n",
       "    <tr>\n",
       "      <th>2011-01-14</th>\n",
       "      <td>[14, 5, 1, 1, 8, 17, 70, 158, 117, 44, 53, 61,...</td>\n",
       "      <td>1</td>\n",
       "    </tr>\n",
       "    <tr>\n",
       "      <th>2011-01-15</th>\n",
       "      <td>[28, 20, 12, 8, 5, 1, 3, 10, 23, 33, 59, 72, 8...</td>\n",
       "      <td>0</td>\n",
       "    </tr>\n",
       "    <tr>\n",
       "      <th>2011-01-16</th>\n",
       "      <td>[39, 23, 16, 15, 1, 2, 1, 3, 18, 32, 79, 93, 1...</td>\n",
       "      <td>0</td>\n",
       "    </tr>\n",
       "    <tr>\n",
       "      <th>2011-01-17</th>\n",
       "      <td>[17, 16, 8, 2, 3, 1, 5, 13, 33, 47, 57, 64, 80...</td>\n",
       "      <td>0</td>\n",
       "    </tr>\n",
       "    <tr>\n",
       "      <th>2011-01-18</th>\n",
       "      <td>[3, 22, 28, 35, 61, 125, 133, 99, 83, 41, 33, 20]</td>\n",
       "      <td>1</td>\n",
       "    </tr>\n",
       "    <tr>\n",
       "      <th>2011-01-19</th>\n",
       "      <td>[3, 7, 3, 2, 7, 32, 90, 197, 109, 47, 52, 70, ...</td>\n",
       "      <td>1</td>\n",
       "    </tr>\n",
       "    <tr>\n",
       "      <th>2011-01-20</th>\n",
       "      <td>[13, 5, 2, 1, 1, 6, 35, 101, 249, 143, 57, 68,...</td>\n",
       "      <td>1</td>\n",
       "    </tr>\n",
       "  </tbody>\n",
       "</table>\n",
       "</div>"
      ],
      "text/plain": [
       "                                                       counts  workingday\n",
       "dteday                                                                   \n",
       "2011-01-01  [16, 40, 32, 13, 1, 1, 2, 3, 8, 14, 36, 56, 84...           0\n",
       "2011-01-02  [17, 17, 9, 6, 3, 2, 1, 8, 20, 53, 70, 93, 75,...           0\n",
       "2011-01-03  [5, 2, 1, 3, 30, 64, 154, 88, 44, 51, 61, 61, ...           1\n",
       "2011-01-04  [5, 2, 1, 2, 4, 36, 94, 179, 100, 42, 57, 78, ...           1\n",
       "2011-01-05  [6, 6, 2, 2, 3, 33, 88, 195, 115, 57, 46, 79, ...           1\n",
       "2011-01-06  [11, 4, 2, 1, 4, 36, 95, 219, 122, 45, 59, 84,...           1\n",
       "2011-01-07  [17, 7, 1, 1, 5, 34, 84, 210, 134, 63, 67, 59,...           1\n",
       "2011-01-08  [25, 16, 16, 7, 1, 5, 2, 9, 15, 20, 61, 62, 98...           0\n",
       "2011-01-09  [25, 12, 11, 4, 1, 1, 1, 6, 10, 19, 49, 49, 83...           0\n",
       "2011-01-10  [5, 1, 3, 1, 3, 3, 31, 77, 188, 94, 31, 30, 52...           1\n",
       "2011-01-11  [12, 3, 3, 6, 27, 99, 217, 130, 54, 35, 57, 52...           1\n",
       "2011-01-12  [7, 6, 1, 5, 16, 54, 128, 81, 39, 35, 55, 49, ...           1\n",
       "2011-01-13  [7, 2, 2, 3, 4, 3, 28, 72, 202, 139, 38, 37, 5...           1\n",
       "2011-01-14  [14, 5, 1, 1, 8, 17, 70, 158, 117, 44, 53, 61,...           1\n",
       "2011-01-15  [28, 20, 12, 8, 5, 1, 3, 10, 23, 33, 59, 72, 8...           0\n",
       "2011-01-16  [39, 23, 16, 15, 1, 2, 1, 3, 18, 32, 79, 93, 1...           0\n",
       "2011-01-17  [17, 16, 8, 2, 3, 1, 5, 13, 33, 47, 57, 64, 80...           0\n",
       "2011-01-18  [3, 22, 28, 35, 61, 125, 133, 99, 83, 41, 33, 20]           1\n",
       "2011-01-19  [3, 7, 3, 2, 7, 32, 90, 197, 109, 47, 52, 70, ...           1\n",
       "2011-01-20  [13, 5, 2, 1, 1, 6, 35, 101, 249, 143, 57, 68,...           1"
      ]
     },
     "execution_count": 2,
     "metadata": {},
     "output_type": "execute_result"
    }
   ],
   "source": [
    "# Aggregate observations from the same day by creating a list of the hourly counts\n",
    "ts = data.groupby(data['dteday'].dt.date)['cnt'].agg(lambda x: list(x)).to_frame('counts')\n",
    "\n",
    "# 1 = working day, 0 = not working day; the mean is a convenient way to reduce 24 1's or 0's to a single 1 or 0\n",
    "labels = data.groupby(data['dteday'].dt.date)['workingday'].agg('mean').to_frame()\n",
    "\n",
    "# Bundle everything in one dataframe \n",
    "ts['workingday'] = labels\n",
    "ts.head(20)"
   ]
  },
  {
   "cell_type": "markdown",
   "metadata": {},
   "source": [
    "Now that your data is in the right format, use the **train_test_split** method of the **sklearn.cross_validation** module to split it in a training set (66% of the data) and test set (33% of the data). Make sure the shapes of the returned data structures make sense. "
   ]
  },
  {
   "cell_type": "code",
   "execution_count": 3,
   "metadata": {
    "ExecuteTime": {
     "end_time": "2020-04-07T08:03:31.760305Z",
     "start_time": "2020-04-07T08:03:31.201357Z"
    }
   },
   "outputs": [
    {
     "name": "stdout",
     "output_type": "stream",
     "text": [
      "(489,)\n",
      "(242,)\n",
      "(489,)\n",
      "(242,)\n"
     ]
    }
   ],
   "source": [
    "from sklearn.model_selection import train_test_split\n",
    "\n",
    "X_train, X_test, y_train, y_test = train_test_split(ts['counts'], ts['workingday'], test_size=0.33, random_state=42)\n",
    "print(X_train.shape)\n",
    "print(X_test.shape)\n",
    "print(y_train.shape)\n",
    "print(y_test.shape)"
   ]
  },
  {
   "cell_type": "markdown",
   "metadata": {},
   "source": [
    "## Implementing the algorithms\n",
    "\n",
    "To perform the desired tasks, we need to implement several things:\n",
    "- A function to compute the Euclidean distance between two time series\n",
    "- A function to compute the DTW distance between two time series\n",
    "- A function to classify a time series according to its nearest neighbor, using an arbitrary distance function\n",
    "- A wrapper function to run our 1NN implementation on the whole test set and compute the accuracy of the approach"
   ]
  },
  {
   "cell_type": "markdown",
   "metadata": {},
   "source": [
    "Start by defining a method that, given two time series, return the Euclidean distance between them. The formula for the Euclidean distance $d$ between two time-series $a$ and $b$ of length $n$ is the following:\n",
    "$$d = \\sqrt{\\sum_{i=1}^n (a_i - b_i)^2}$$"
   ]
  },
  {
   "cell_type": "code",
   "execution_count": 4,
   "metadata": {
    "ExecuteTime": {
     "end_time": "2020-04-07T08:03:31.768902Z",
     "start_time": "2020-04-07T08:03:31.764704Z"
    }
   },
   "outputs": [],
   "source": [
    "import math\n",
    "\n",
    "def euclid_dist(s1, s2): # return euclidean distance between two time-series \n",
    "    sqdiffs = [(a_i - b_i)**2 for a_i, b_i in zip(s1, s2)]\n",
    "    return math.sqrt(sum(sqdiffs))\n"
   ]
  },
  {
   "cell_type": "markdown",
   "metadata": {},
   "source": [
    "Now define a method that classifies one time series using the 1 Nearest Neighbor algorithm. This method takes 4 arguments:\n",
    "- X_train: the time series of the training set\n",
    "- y_train: the corresponding labels of the time series (working day or not)\n",
    "- test_s: the instance to classify\n",
    "- distance: the distance function to use (for the moment we only have the Euclidean distance available)\n",
    "\n",
    "The returned value should be the prediction for the test instance, 0 or 1."
   ]
  },
  {
   "cell_type": "code",
   "execution_count": 5,
   "metadata": {
    "ExecuteTime": {
     "end_time": "2020-04-07T08:03:31.776550Z",
     "start_time": "2020-04-07T08:03:31.772371Z"
    }
   },
   "outputs": [],
   "source": [
    "def one_nearest_neighbor(X_train, y_train, test_s, distance): # classify the test_s time series using 1NN; the distance is computed using the provided distance function\n",
    "    min_dist = float('inf')\n",
    "    prediction = -1\n",
    "    for i in range(len(y_train)):\n",
    "        d = distance(X_train[i], test_s)\n",
    "        if d < min_dist:\n",
    "            min_dist = d\n",
    "            prediction = y_train[i]\n",
    "    return prediction"
   ]
  },
  {
   "cell_type": "markdown",
   "metadata": {},
   "source": [
    "Define a method that will run your **one_nearest_neighbor** function on all the instances of the test set and return the classification accuracy. The method takes 5 arguments:\n",
    "- X_train: the time series of the training set\n",
    "- y_train: the corresponding labels of the time series (working day or not)\n",
    "- X_test and y_test: same, but for the test set\n",
    "- distance: the distance function to use "
   ]
  },
  {
   "cell_type": "code",
   "execution_count": 6,
   "metadata": {
    "ExecuteTime": {
     "end_time": "2020-04-07T08:03:31.784593Z",
     "start_time": "2020-04-07T08:03:31.779470Z"
    }
   },
   "outputs": [],
   "source": [
    "def classify(X_train, y_train, X_test, y_test, distance): # classify all the instances of the test set using 1NN with the provided distance function\n",
    "    correct = 0.0\n",
    "    for j in range(len(y_test)):\n",
    "        prediction = one_nearest_neighbor(X_train, y_train, X_test[j], distance)\n",
    "        if prediction == y_test[j]:\n",
    "            correct += 1\n",
    "\n",
    "    accuracy = correct/len(y_test)\n",
    "    return accuracy"
   ]
  },
  {
   "cell_type": "markdown",
   "metadata": {},
   "source": [
    "Now use your methods to classify the test instances using the Euclidean distance. Is the performance good? What would be the performance of a baseline classifier which always predicts the majority class?"
   ]
  },
  {
   "cell_type": "code",
   "execution_count": 7,
   "metadata": {
    "ExecuteTime": {
     "end_time": "2020-04-07T08:03:36.583846Z",
     "start_time": "2020-04-07T08:03:31.786658Z"
    }
   },
   "outputs": [
    {
     "name": "stdout",
     "output_type": "stream",
     "text": [
      "0.8553719008264463\n"
     ]
    }
   ],
   "source": [
    "accuracy = classify(X_train, y_train, X_test, y_test, euclid_dist)\n",
    "print(accuracy)"
   ]
  },
  {
   "cell_type": "markdown",
   "metadata": {},
   "source": [
    "The next cell provides an implementation of the DTW distance. Take some time to understand the code and try to match what it does to what you have seen of dynamic time warping in class. "
   ]
  },
  {
   "cell_type": "code",
   "execution_count": 8,
   "metadata": {
    "ExecuteTime": {
     "end_time": "2020-04-07T08:03:36.594653Z",
     "start_time": "2020-04-07T08:03:36.586117Z"
    }
   },
   "outputs": [],
   "source": [
    "def DTWDistance(s1, s2): # returns the DTW distance between two time series s1 and s2\n",
    "    DTW={}\n",
    "    \n",
    "    # Remember to define the initial cases, where no cells are filled in.\n",
    "    # Hint: give values to the row and the column in position -1 equal to inf, \n",
    "    # such that no errors raise when using min(); Initialize the cell in position (-1,-1) with 0.\n",
    "    \n",
    "    for i in range(len(s1)):\n",
    "        DTW[(i, -1)] = float('inf')\n",
    "    for i in range(len(s2)):\n",
    "        DTW[(-1, i)] = float('inf')\n",
    "    DTW[(-1, -1)] = 0\n",
    "\n",
    "    for i in range(len(s1)):\n",
    "        for j in range(len(s2)):\n",
    "            dist= abs(s1[i]-s2[j])\n",
    "            DTW[(i, j)] = dist + min(DTW[(i-1, j)],DTW[(i, j-1)], DTW[(i-1, j-1)])\n",
    "\n",
    "    return DTW[len(s1)-1, len(s2)-1]"
   ]
  },
  {
   "cell_type": "markdown",
   "metadata": {},
   "source": [
    "Run your **classify** method again, this time using the DTWDistance. Is the performance better? "
   ]
  },
  {
   "cell_type": "code",
   "execution_count": 9,
   "metadata": {
    "ExecuteTime": {
     "end_time": "2020-04-07T08:05:22.805157Z",
     "start_time": "2020-04-07T08:03:36.598185Z"
    }
   },
   "outputs": [
    {
     "name": "stdout",
     "output_type": "stream",
     "text": [
      "0.9752066115702479\n"
     ]
    }
   ],
   "source": [
    "accuracy = classify(X_train,y_train,X_test,y_test,DTWDistance) # should take ~3 min to run\n",
    "print(accuracy)"
   ]
  },
  {
   "cell_type": "markdown",
   "metadata": {},
   "source": [
    "So far, all the time series had the same length (24). Let's change that, by arbitrarily removing the hourly counts smaller than 50. The next cell create a new dataframe with varying-length time series."
   ]
  },
  {
   "cell_type": "code",
   "execution_count": 10,
   "metadata": {
    "ExecuteTime": {
     "end_time": "2020-04-07T08:05:22.994689Z",
     "start_time": "2020-04-07T08:05:22.808606Z"
    }
   },
   "outputs": [
    {
     "data": {
      "text/html": [
       "<div>\n",
       "<style scoped>\n",
       "    .dataframe tbody tr th:only-of-type {\n",
       "        vertical-align: middle;\n",
       "    }\n",
       "\n",
       "    .dataframe tbody tr th {\n",
       "        vertical-align: top;\n",
       "    }\n",
       "\n",
       "    .dataframe thead th {\n",
       "        text-align: right;\n",
       "    }\n",
       "</style>\n",
       "<table border=\"1\" class=\"dataframe\">\n",
       "  <thead>\n",
       "    <tr style=\"text-align: right;\">\n",
       "      <th></th>\n",
       "      <th>counts</th>\n",
       "      <th>workingday</th>\n",
       "    </tr>\n",
       "    <tr>\n",
       "      <th>dteday</th>\n",
       "      <th></th>\n",
       "      <th></th>\n",
       "    </tr>\n",
       "  </thead>\n",
       "  <tbody>\n",
       "    <tr>\n",
       "      <th>2011-01-01</th>\n",
       "      <td>[56, 84, 94, 106, 110, 93, 67]</td>\n",
       "      <td>0</td>\n",
       "    </tr>\n",
       "    <tr>\n",
       "      <th>2011-01-02</th>\n",
       "      <td>[53, 70, 93, 75, 59, 74, 76, 65, 53]</td>\n",
       "      <td>0</td>\n",
       "    </tr>\n",
       "    <tr>\n",
       "      <th>2011-01-03</th>\n",
       "      <td>[64, 154, 88, 51, 61, 61, 77, 72, 76, 157, 157...</td>\n",
       "      <td>1</td>\n",
       "    </tr>\n",
       "    <tr>\n",
       "      <th>2011-01-04</th>\n",
       "      <td>[94, 179, 100, 57, 78, 97, 63, 65, 83, 212, 18...</td>\n",
       "      <td>1</td>\n",
       "    </tr>\n",
       "    <tr>\n",
       "      <th>2011-01-05</th>\n",
       "      <td>[88, 195, 115, 57, 79, 71, 62, 62, 89, 190, 16...</td>\n",
       "      <td>1</td>\n",
       "    </tr>\n",
       "  </tbody>\n",
       "</table>\n",
       "</div>"
      ],
      "text/plain": [
       "                                                       counts  workingday\n",
       "dteday                                                                   \n",
       "2011-01-01                     [56, 84, 94, 106, 110, 93, 67]           0\n",
       "2011-01-02               [53, 70, 93, 75, 59, 74, 76, 65, 53]           0\n",
       "2011-01-03  [64, 154, 88, 51, 61, 61, 77, 72, 76, 157, 157...           1\n",
       "2011-01-04  [94, 179, 100, 57, 78, 97, 63, 65, 83, 212, 18...           1\n",
       "2011-01-05  [88, 195, 115, 57, 79, 71, 62, 62, 89, 190, 16...           1"
      ]
     },
     "execution_count": 10,
     "metadata": {},
     "output_type": "execute_result"
    }
   ],
   "source": [
    "def trim(row):  # 'trim' a time series by removing elements from it\n",
    "    tmp = []\n",
    "    for c in row.counts:\n",
    "        if c > 50:\n",
    "            tmp.append(c)\n",
    "    row.counts = tmp\n",
    "    return row\n",
    "\n",
    "varts = ts.apply(trim, axis=1) # apply our trim method on all rows of the ts datarame\n",
    "varts.head()"
   ]
  },
  {
   "cell_type": "markdown",
   "metadata": {},
   "source": [
    "In the next cell, we re-create our X and y matrices. This time, they contain time series of varying lengths."
   ]
  },
  {
   "cell_type": "code",
   "execution_count": 11,
   "metadata": {
    "ExecuteTime": {
     "end_time": "2020-04-07T08:05:23.002110Z",
     "start_time": "2020-04-07T08:05:22.996826Z"
    }
   },
   "outputs": [],
   "source": [
    "X_train, X_test, y_train, y_test = train_test_split(varts['counts'], varts['workingday'], test_size=0.33, random_state=42)"
   ]
  },
  {
   "cell_type": "markdown",
   "metadata": {},
   "source": [
    "Finally, we compare the two distances, this time on the varying-length time series dataset. Do you notice any significant change in performance?"
   ]
  },
  {
   "cell_type": "code",
   "execution_count": 12,
   "metadata": {
    "ExecuteTime": {
     "end_time": "2020-04-07T08:06:10.928243Z",
     "start_time": "2020-04-07T08:05:23.004273Z"
    }
   },
   "outputs": [
    {
     "name": "stdout",
     "output_type": "stream",
     "text": [
      "0.17355371900826447\n",
      "0.9793388429752066\n"
     ]
    }
   ],
   "source": [
    "euclid_accuracy = classify(X_train, y_train, X_test, y_test, euclid_dist)\n",
    "DTW_accuracy = classify(X_train, y_train, X_test, y_test, DTWDistance) \n",
    "print(euclid_accuracy)\n",
    "print(DTW_accuracy)"
   ]
  }
 ],
 "metadata": {
  "kernelspec": {
   "display_name": "Python 3",
   "language": "python",
   "name": "python3"
  },
  "language_info": {
   "codemirror_mode": {
    "name": "ipython",
    "version": 3
   },
   "file_extension": ".py",
   "mimetype": "text/x-python",
   "name": "python",
   "nbconvert_exporter": "python",
   "pygments_lexer": "ipython3",
   "version": "3.8.5"
  },
  "toc": {
   "base_numbering": 1,
   "nav_menu": {},
   "number_sections": true,
   "sideBar": true,
   "skip_h1_title": true,
   "title_cell": "Table of Contents",
   "title_sidebar": "Contents",
   "toc_cell": false,
   "toc_position": {},
   "toc_section_display": true,
   "toc_window_display": false
  }
 },
 "nbformat": 4,
 "nbformat_minor": 1
}
