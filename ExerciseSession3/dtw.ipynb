{
 "cells": [
  {
   "cell_type": "markdown",
   "metadata": {},
   "source": [
    "# Dynamic Time Warping\n",
    "\n",
    "In this notebook, you are going to classify time series data with the 1-NN algorithm, using two different approaches to compute the distance between time series: the Euclidean distance and the Dynamic Time Warping (DTW) distance. The comparison will be made for time series of equal length as well as for varying-length time series."
   ]
  },
  {
   "cell_type": "markdown",
   "metadata": {},
   "source": [
    "## Processing the data\n",
    "\n",
    "The goal is to predict, based on hourly rentals, if a given day is a working day or not. Start by loading the `hour.csv` file, where each line contains information about the bike renting system for one hour. Take care to properly parse the date information of the data as done before. The number of rentals is recorded in the `cnt` column."
   ]
  },
  {
   "cell_type": "code",
   "execution_count": null,
   "metadata": {},
   "outputs": [],
   "source": [
    "import pandas as pd\n",
    "\n",
    "data = ...\n",
    "print(data.shape)\n",
    "data.head(10)"
   ]
  },
  {
   "cell_type": "markdown",
   "metadata": {},
   "source": [
    "We want to operate on days, not on hours, but we need to keep track of the hourly data, as the sequences of hourly rentals will be our time-series. The other variables are not necessary. \n",
    "Find a way to aggregate the hourly observations, and create a dataframe with two columns: `counts` and `workingday`. The former should contain a list of the hourly counts. The latter should contain 0's or 1's indicating whether a given row correspond to a working day or not (0 = no, 1 = yes).\n",
    "Note that your lists should contain exactly 24 elements."
   ]
  },
  {
   "cell_type": "code",
   "execution_count": null,
   "metadata": {},
   "outputs": [],
   "source": [
    "ts = ...\n",
    "ts.head(20)"
   ]
  },
  {
   "cell_type": "markdown",
   "metadata": {},
   "source": [
    "Now that your data is in the right format, use the **train_test_split** method of the **sklearn.cross_validation** module to split it in a training set (66% of the data) and test set (33% of the data). Make sure the shapes of the returned data structures make sense. "
   ]
  },
  {
   "cell_type": "code",
   "execution_count": null,
   "metadata": {},
   "outputs": [],
   "source": [
    "from sklearn.model_selection import train_test_split\n",
    "\n",
    "# Fill in the line below to obtain train and test sets from your initial data\n",
    "X_train, X_test, y_train, y_test = ...\n",
    "print(X_train.shape)\n",
    "print(X_test.shape)\n",
    "print(y_train.shape)\n",
    "print(y_test.shape)"
   ]
  },
  {
   "cell_type": "markdown",
   "metadata": {},
   "source": [
    "## Implementing the algorithms\n",
    "\n",
    "To perform the desired tasks, we need to implement several things:\n",
    "- A function to compute the Euclidean distance between two time series\n",
    "- A function to compute the DTW distance between two time series\n",
    "- A function to classify a time series according to its nearest neighbor, using an arbitrary distance function\n",
    "- A wrapper function to run our 1NN implementation on the whole test set and compute the accuracy of the approach"
   ]
  },
  {
   "cell_type": "markdown",
   "metadata": {},
   "source": [
    "Start by defining a method that, given two time series, return the Euclidean distance between them. The formula for the Euclidean distance $d$ between two time-series $a$ and $b$ of length $n$ is the following:\n",
    "$$d = \\sqrt{\\sum_{i=1}^n (a_i - b_i)^2}$$"
   ]
  },
  {
   "cell_type": "code",
   "execution_count": null,
   "metadata": {},
   "outputs": [],
   "source": [
    "import math\n",
    "\n",
    "def euclid_dist(s1, s2):\n",
    "    ..."
   ]
  },
  {
   "cell_type": "markdown",
   "metadata": {},
   "source": [
    "Now define a method that classifies one time series using the 1 Nearest Neighbor algorithm. This method takes 4 arguments:\n",
    "- X_train: the time series of the training set\n",
    "- y_train: the corresponding labels of the time series (working day or not)\n",
    "- test_s: the instance to classify\n",
    "- distance: the distance function to use (for the moment we only have the Euclidean distance available)\n",
    "\n",
    "The returned value should be the prediction for the test instance, 0 or 1."
   ]
  },
  {
   "cell_type": "code",
   "execution_count": null,
   "metadata": {},
   "outputs": [],
   "source": [
    "def oneNearestNeighbor(X_train, y_train, test_s, distance):\n",
    "    ..."
   ]
  },
  {
   "cell_type": "markdown",
   "metadata": {},
   "source": [
    "Define a method that will run your **one_nearest_neighbor** function on all the instances of the test set and return the classification accuracy. The method takes 5 arguments:\n",
    "- X_train: the time series of the training set\n",
    "- y_train: the corresponding labels of the time series (working day or not)\n",
    "- X_test and y_test: same, but for the test set\n",
    "- distance: the distance function to use "
   ]
  },
  {
   "cell_type": "code",
   "execution_count": null,
   "metadata": {},
   "outputs": [],
   "source": [
    "def classify(X_train, y_train, X_test, y_test, distance):\n",
    "    ..."
   ]
  },
  {
   "cell_type": "markdown",
   "metadata": {},
   "source": [
    "Now use your methods to classify the test instances using the Euclidean distance. Is the performance good? What would be the performance of a baseline classifier which always predicts the majority class?"
   ]
  },
  {
   "cell_type": "code",
   "execution_count": null,
   "metadata": {},
   "outputs": [],
   "source": [
    "accuracy = classify(X_train, y_train, X_test, y_test, euclid_dist)\n",
    "print(accuracy)"
   ]
  },
  {
   "cell_type": "markdown",
   "metadata": {},
   "source": [
    "Next, you need to give an implementation of the DTW distance. Take some time to understand the distance, and write the code trying to match what it to what you have seen of Dynamic Time Warping in class. "
   ]
  },
  {
   "cell_type": "code",
   "execution_count": null,
   "metadata": {},
   "outputs": [],
   "source": [
    "def DTWDistance(s1, s2): # returns the DTW distance between two time series s1 and s2\n",
    "    ...\n",
    "    # Remember to define the initial cases, where no cells are filled in.\n",
    "    # Hint: give values to the row and the column in position -1 equal to inf, \n",
    "    # such that no errors raise when using min(); Initialize the cell in position (-1,-1) with 0.\n",
    "    ...\n",
    "    \n",
    "    return "
   ]
  },
  {
   "cell_type": "markdown",
   "metadata": {},
   "source": [
    "Run your **classify** method again, this time using the DTWDistance. Is the performance better? "
   ]
  },
  {
   "cell_type": "code",
   "execution_count": null,
   "metadata": {},
   "outputs": [],
   "source": [
    "accuracy = classify(X_train, y_train, X_test, y_test, DTWDistance) # should take ~3 min to run\n",
    "print(accuracy)"
   ]
  },
  {
   "cell_type": "markdown",
   "metadata": {},
   "source": [
    "So far, all the time series had the same length (24). Let's change that, by arbitrarily removing the hourly counts smaller than 50. The next cell create a new dataframe with varying-length time series."
   ]
  },
  {
   "cell_type": "code",
   "execution_count": null,
   "metadata": {},
   "outputs": [],
   "source": [
    "def trim(row):  # 'trim' a time series by removing elements from it\n",
    "    tmp = []\n",
    "    for c in row.counts:\n",
    "        if c > 50:\n",
    "            tmp.append(c)\n",
    "    row.counts = tmp\n",
    "    return row\n",
    "\n",
    "varts = ts.apply(trim, axis=1) # apply our trim method on all rows of the ts datarame\n",
    "varts.head()"
   ]
  },
  {
   "cell_type": "markdown",
   "metadata": {},
   "source": [
    "In the next cell, we re-create our X and y matrices. This time, they contain time series of varying lengths."
   ]
  },
  {
   "cell_type": "code",
   "execution_count": null,
   "metadata": {},
   "outputs": [],
   "source": [
    "X_train, X_test, y_train, y_test = train_test_split(varts['counts'], varts['workingday'], test_size=0.33, random_state=42)"
   ]
  },
  {
   "cell_type": "markdown",
   "metadata": {},
   "source": [
    "Finally, we compare the two distances, this time on the varying-length time series dataset. Do you notice any significant change in performance?"
   ]
  },
  {
   "cell_type": "code",
   "execution_count": null,
   "metadata": {},
   "outputs": [],
   "source": [
    "euclid_accuracy = classify(X_train, y_train, X_test, y_test, euclid_dist)\n",
    "DTW_accuracy = classify(X_train, y_train, X_test, y_test, DTWDistance) \n",
    "print(euclid_accuracy)\n",
    "print(DTW_accuracy)"
   ]
  }
 ],
 "metadata": {
  "kernelspec": {
   "display_name": "Python 3",
   "language": "python",
   "name": "python3"
  },
  "language_info": {
   "codemirror_mode": {
    "name": "ipython",
    "version": 3
   },
   "file_extension": ".py",
   "mimetype": "text/x-python",
   "name": "python",
   "nbconvert_exporter": "python",
   "pygments_lexer": "ipython3",
   "version": "3.8.5"
  },
  "toc": {
   "base_numbering": 1,
   "nav_menu": {},
   "number_sections": false,
   "sideBar": true,
   "skip_h1_title": false,
   "title_cell": "Table of Contents",
   "title_sidebar": "Contents",
   "toc_cell": false,
   "toc_position": {},
   "toc_section_display": true,
   "toc_window_display": false
  }
 },
 "nbformat": 4,
 "nbformat_minor": 1
}
